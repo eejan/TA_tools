{
 "cells": [
  {
   "cell_type": "code",
   "execution_count": 12,
   "metadata": {},
   "outputs": [],
   "source": [
    "import numpy as np\n",
    "import pandas as pd\n",
    "import quandl as qdl\n",
    "from scipy.stats import linregress"
   ]
  },
  {
   "cell_type": "code",
   "execution_count": 2,
   "metadata": {},
   "outputs": [],
   "source": [
    "data = qdl.get(\"WIKI/AAPL\", start_date=\"2007-01-01\", end_date=\"2017-05-01\")"
   ]
  },
  {
   "cell_type": "code",
   "execution_count": 3,
   "metadata": {},
   "outputs": [],
   "source": [
    "data_org = data.copy()"
   ]
  },
  {
   "cell_type": "code",
   "execution_count": 4,
   "metadata": {},
   "outputs": [],
   "source": [
    "data.drop(['Open', 'High', 'Low', 'Close', 'Volume', 'Ex-Dividend', 'Split Ratio'], axis=1, inplace=True)"
   ]
  },
  {
   "cell_type": "code",
   "execution_count": 5,
   "metadata": {},
   "outputs": [
    {
     "data": {
      "text/html": [
       "<div>\n",
       "<style scoped>\n",
       "    .dataframe tbody tr th:only-of-type {\n",
       "        vertical-align: middle;\n",
       "    }\n",
       "\n",
       "    .dataframe tbody tr th {\n",
       "        vertical-align: top;\n",
       "    }\n",
       "\n",
       "    .dataframe thead th {\n",
       "        text-align: right;\n",
       "    }\n",
       "</style>\n",
       "<table border=\"1\" class=\"dataframe\">\n",
       "  <thead>\n",
       "    <tr style=\"text-align: right;\">\n",
       "      <th></th>\n",
       "      <th>Adj. Open</th>\n",
       "      <th>Adj. High</th>\n",
       "      <th>Adj. Low</th>\n",
       "      <th>Adj. Close</th>\n",
       "      <th>Adj. Volume</th>\n",
       "    </tr>\n",
       "    <tr>\n",
       "      <th>Date</th>\n",
       "      <th></th>\n",
       "      <th></th>\n",
       "      <th></th>\n",
       "      <th></th>\n",
       "      <th></th>\n",
       "    </tr>\n",
       "  </thead>\n",
       "  <tbody>\n",
       "    <tr>\n",
       "      <th>2007-01-03</th>\n",
       "      <td>11.089468</td>\n",
       "      <td>11.126737</td>\n",
       "      <td>10.525291</td>\n",
       "      <td>10.769468</td>\n",
       "      <td>309579900.0</td>\n",
       "    </tr>\n",
       "    <tr>\n",
       "      <th>2007-01-04</th>\n",
       "      <td>10.801596</td>\n",
       "      <td>11.045773</td>\n",
       "      <td>10.772038</td>\n",
       "      <td>11.008504</td>\n",
       "      <td>211815100.0</td>\n",
       "    </tr>\n",
       "    <tr>\n",
       "      <th>2007-01-05</th>\n",
       "      <td>11.022640</td>\n",
       "      <td>11.077901</td>\n",
       "      <td>10.846576</td>\n",
       "      <td>10.930110</td>\n",
       "      <td>208685400.0</td>\n",
       "    </tr>\n",
       "    <tr>\n",
       "      <th>2007-01-08</th>\n",
       "      <td>11.047058</td>\n",
       "      <td>11.120311</td>\n",
       "      <td>10.959669</td>\n",
       "      <td>10.984086</td>\n",
       "      <td>199276700.0</td>\n",
       "    </tr>\n",
       "    <tr>\n",
       "      <th>2007-01-09</th>\n",
       "      <td>11.110030</td>\n",
       "      <td>11.949226</td>\n",
       "      <td>10.942962</td>\n",
       "      <td>11.896535</td>\n",
       "      <td>837324600.0</td>\n",
       "    </tr>\n",
       "  </tbody>\n",
       "</table>\n",
       "</div>"
      ],
      "text/plain": [
       "            Adj. Open  Adj. High   Adj. Low  Adj. Close  Adj. Volume\n",
       "Date                                                                \n",
       "2007-01-03  11.089468  11.126737  10.525291   10.769468  309579900.0\n",
       "2007-01-04  10.801596  11.045773  10.772038   11.008504  211815100.0\n",
       "2007-01-05  11.022640  11.077901  10.846576   10.930110  208685400.0\n",
       "2007-01-08  11.047058  11.120311  10.959669   10.984086  199276700.0\n",
       "2007-01-09  11.110030  11.949226  10.942962   11.896535  837324600.0"
      ]
     },
     "execution_count": 5,
     "metadata": {},
     "output_type": "execute_result"
    }
   ],
   "source": [
    "data.head()"
   ]
  },
  {
   "cell_type": "code",
   "execution_count": 9,
   "metadata": {},
   "outputs": [
    {
     "data": {
      "text/plain": [
       "<matplotlib.axes._subplots.AxesSubplot at 0x188c93c36d8>"
      ]
     },
     "execution_count": 9,
     "metadata": {},
     "output_type": "execute_result"
    },
    {
     "data": {
      "image/png": "[encoded data removed]",
      "text/plain": [
       "<Figure size 432x288 with 1 Axes>"
      ]
     },
     "metadata": {
      "needs_background": "light"
     },
     "output_type": "display_data"
    }
   ],
   "source": [
    "data0 = data.copy()\n",
    "data0['date_id'] = ((data0.index.date - data0.index.date.min())).astype('timedelta64[D]')\n",
    "data0['date_id'] = data0['date_id'].dt.days + 1\n",
    "\n",
    "# high trend line\n",
    "data1 = data0.copy()\n",
    "while len(data1)>3:\n",
    "    reg = linregress(x=data1['date_id'], y=data1['Adj. High'],)\n",
    "    data1 = data1.loc[data1['Adj. High'] > reg[0] * data1['date_id'] + reg[1]]\n",
    "\n",
    "reg = linregress(x=data1['date_id'], y=data1['Adj. High'],)\n",
    "data0['high_trend'] = reg[0] * data0['date_id'] + reg[1]\n",
    "\n",
    "# low trend line\n",
    "data1 = data0.copy()\n",
    "while len(data1)>3:\n",
    "    reg = linregress(x=data1['date_id'],y=data1['Adj. Low'],)\n",
    "    data1 = data1.loc[data1['Adj. Low'] < reg[0] * data1['date_id'] + reg[1]]\n",
    "\n",
    "reg = linregress(x=data1['date_id'], y=data1['Adj. Low'],)\n",
    "data0['low_trend'] = reg[0] * data0['date_id'] + reg[1]\n",
    "\n",
    "# plot\n",
    "data0['Adj. Close'].plot()\n",
    "data0['high_trend'].plot()\n",
    "data0['low_trend'].plot()"
   ]
  },
  {
   "cell_type": "code",
   "execution_count": 18,
   "metadata": {},
   "outputs": [],
   "source": [
    "def trenddetector(list_of_index,array_of_data, order=1):\n",
    "    coeffs = np.polyfit(list_of_index, list(array_of_data), order)\n",
    "    slope = coeffs[-2]\n",
    "    return float(slope)"
   ]
  },
  {
   "cell_type": "code",
   "execution_count": 22,
   "metadata": {},
   "outputs": [],
   "source": [
    "def trendline(index,data, order=1):\n",
    "    coeffs = np.polyfit(index, data, order)\n",
    "    slope = coeffs[-2]\n",
    "    return float(slope)"
   ]
  },
  {
   "cell_type": "code",
   "execution_count": 23,
   "metadata": {},
   "outputs": [
    {
     "name": "stdout",
     "output_type": "stream",
     "text": [
      "1845.4000000000003\n"
     ]
    }
   ],
   "source": [
    "index=[1,2,3,4]\n",
    "List=[1043,6582,5452,7571]\n",
    "resultent=trendline(index,List)\n",
    "print(resultent)  "
   ]
  },
  {
   "cell_type": "code",
   "execution_count": 21,
   "metadata": {},
   "outputs": [
    {
     "name": "stdout",
     "output_type": "stream",
     "text": [
      "1845.4000000000003\n"
     ]
    }
   ],
   "source": [
    "index=[1,2,3,4]\n",
    "List=[1043,6582,5452,7571]\n",
    "resultent=trenddetector(index,List)\n",
    "print(resultent)"
   ]
  },
  {
   "cell_type": "code",
   "execution_count": 24,
   "metadata": {},
   "outputs": [
    {
     "data": {
      "text/plain": [
       "(2600, 5)"
      ]
     },
     "execution_count": 24,
     "metadata": {},
     "output_type": "execute_result"
    }
   ],
   "source": [
    "data.shape"
   ]
  },
  {
   "cell_type": "code",
   "execution_count": null,
   "metadata": {},
   "outputs": [],
   "source": []
  }
 ],
 "metadata": {
  "kernelspec": {
   "display_name": "Python 3",
   "language": "python",
   "name": "python3"
  },
  "language_info": {
   "codemirror_mode": {
    "name": "ipython",
    "version": 3
   },
   "file_extension": ".py",
   "mimetype": "text/x-python",
   "name": "python",
   "nbconvert_exporter": "python",
   "pygments_lexer": "ipython3",
   "version": "3.6.10"
  }
 },
 "nbformat": 4,
 "nbformat_minor": 4
}
